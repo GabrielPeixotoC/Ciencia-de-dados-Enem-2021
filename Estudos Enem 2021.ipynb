{
 "cells": [
  {
   "cell_type": "markdown",
   "id": "e4e567de",
   "metadata": {},
   "source": [
    "## 1. Importação das bibliotecas padrões para tratamento de dados"
   ]
  },
  {
   "cell_type": "code",
   "execution_count": 1,
   "id": "b9505764",
   "metadata": {},
   "outputs": [],
   "source": [
    "import pandas as pd\n",
    "import numpy as np\n",
    "import seaborn as sns\n",
    "import matplotlib.pyplot as plt"
   ]
  },
  {
   "cell_type": "markdown",
   "id": "06887b19",
   "metadata": {},
   "source": [
    "## 2. Importação do dataset do enem 2021"
   ]
  },
  {
   "cell_type": "code",
   "execution_count": 2,
   "id": "af421caf",
   "metadata": {},
   "outputs": [
    {
     "name": "stdout",
     "output_type": "stream",
     "text": [
      "<_io.TextIOWrapper name='microdados_enem_2021.csv' mode='r' encoding='cp1252'>\n"
     ]
    }
   ],
   "source": [
    "#descobrindo o encode dos dados\n",
    "with open('microdados_enem_2021.csv') as f:\n",
    "    print(f)"
   ]
  },
  {
   "cell_type": "code",
   "execution_count": 3,
   "id": "93363065",
   "metadata": {
    "scrolled": true
   },
   "outputs": [
    {
     "name": "stdout",
     "output_type": "stream",
     "text": [
      "Wall time: 34.5 s\n"
     ]
    }
   ],
   "source": [
    "%%time\n",
    "\n",
    "df = pd.read_csv('microdados_enem_2021.csv', sep=';', encoding = 'cp1252')"
   ]
  },
  {
   "cell_type": "markdown",
   "id": "54094966",
   "metadata": {},
   "source": [
    "## 3. Conhecendo o dataset"
   ]
  },
  {
   "cell_type": "code",
   "execution_count": 4,
   "id": "354ad33a",
   "metadata": {},
   "outputs": [
    {
     "data": {
      "text/html": [
       "<div>\n",
       "<style scoped>\n",
       "    .dataframe tbody tr th:only-of-type {\n",
       "        vertical-align: middle;\n",
       "    }\n",
       "\n",
       "    .dataframe tbody tr th {\n",
       "        vertical-align: top;\n",
       "    }\n",
       "\n",
       "    .dataframe thead th {\n",
       "        text-align: right;\n",
       "    }\n",
       "</style>\n",
       "<table border=\"1\" class=\"dataframe\">\n",
       "  <thead>\n",
       "    <tr style=\"text-align: right;\">\n",
       "      <th></th>\n",
       "      <th>NU_INSCRICAO</th>\n",
       "      <th>NU_ANO</th>\n",
       "      <th>TP_FAIXA_ETARIA</th>\n",
       "      <th>TP_SEXO</th>\n",
       "      <th>TP_ESTADO_CIVIL</th>\n",
       "      <th>TP_COR_RACA</th>\n",
       "      <th>TP_NACIONALIDADE</th>\n",
       "      <th>TP_ST_CONCLUSAO</th>\n",
       "      <th>TP_ANO_CONCLUIU</th>\n",
       "      <th>TP_ESCOLA</th>\n",
       "      <th>...</th>\n",
       "      <th>Q016</th>\n",
       "      <th>Q017</th>\n",
       "      <th>Q018</th>\n",
       "      <th>Q019</th>\n",
       "      <th>Q020</th>\n",
       "      <th>Q021</th>\n",
       "      <th>Q022</th>\n",
       "      <th>Q023</th>\n",
       "      <th>Q024</th>\n",
       "      <th>Q025</th>\n",
       "    </tr>\n",
       "  </thead>\n",
       "  <tbody>\n",
       "    <tr>\n",
       "      <th>0</th>\n",
       "      <td>210053865474</td>\n",
       "      <td>2021</td>\n",
       "      <td>5</td>\n",
       "      <td>F</td>\n",
       "      <td>1</td>\n",
       "      <td>1</td>\n",
       "      <td>1</td>\n",
       "      <td>1</td>\n",
       "      <td>3</td>\n",
       "      <td>1</td>\n",
       "      <td>...</td>\n",
       "      <td>A</td>\n",
       "      <td>A</td>\n",
       "      <td>A</td>\n",
       "      <td>B</td>\n",
       "      <td>A</td>\n",
       "      <td>A</td>\n",
       "      <td>B</td>\n",
       "      <td>A</td>\n",
       "      <td>B</td>\n",
       "      <td>B</td>\n",
       "    </tr>\n",
       "    <tr>\n",
       "      <th>1</th>\n",
       "      <td>210052384164</td>\n",
       "      <td>2021</td>\n",
       "      <td>12</td>\n",
       "      <td>M</td>\n",
       "      <td>1</td>\n",
       "      <td>1</td>\n",
       "      <td>1</td>\n",
       "      <td>1</td>\n",
       "      <td>11</td>\n",
       "      <td>1</td>\n",
       "      <td>...</td>\n",
       "      <td>A</td>\n",
       "      <td>A</td>\n",
       "      <td>A</td>\n",
       "      <td>B</td>\n",
       "      <td>A</td>\n",
       "      <td>A</td>\n",
       "      <td>C</td>\n",
       "      <td>A</td>\n",
       "      <td>A</td>\n",
       "      <td>A</td>\n",
       "    </tr>\n",
       "    <tr>\n",
       "      <th>2</th>\n",
       "      <td>210052589243</td>\n",
       "      <td>2021</td>\n",
       "      <td>13</td>\n",
       "      <td>F</td>\n",
       "      <td>3</td>\n",
       "      <td>1</td>\n",
       "      <td>1</td>\n",
       "      <td>1</td>\n",
       "      <td>15</td>\n",
       "      <td>1</td>\n",
       "      <td>...</td>\n",
       "      <td>B</td>\n",
       "      <td>A</td>\n",
       "      <td>A</td>\n",
       "      <td>B</td>\n",
       "      <td>A</td>\n",
       "      <td>A</td>\n",
       "      <td>C</td>\n",
       "      <td>B</td>\n",
       "      <td>B</td>\n",
       "      <td>B</td>\n",
       "    </tr>\n",
       "    <tr>\n",
       "      <th>3</th>\n",
       "      <td>210052128335</td>\n",
       "      <td>2021</td>\n",
       "      <td>3</td>\n",
       "      <td>M</td>\n",
       "      <td>1</td>\n",
       "      <td>3</td>\n",
       "      <td>1</td>\n",
       "      <td>2</td>\n",
       "      <td>0</td>\n",
       "      <td>2</td>\n",
       "      <td>...</td>\n",
       "      <td>A</td>\n",
       "      <td>A</td>\n",
       "      <td>A</td>\n",
       "      <td>B</td>\n",
       "      <td>A</td>\n",
       "      <td>A</td>\n",
       "      <td>B</td>\n",
       "      <td>A</td>\n",
       "      <td>B</td>\n",
       "      <td>B</td>\n",
       "    </tr>\n",
       "    <tr>\n",
       "      <th>4</th>\n",
       "      <td>210051353021</td>\n",
       "      <td>2021</td>\n",
       "      <td>2</td>\n",
       "      <td>F</td>\n",
       "      <td>1</td>\n",
       "      <td>3</td>\n",
       "      <td>1</td>\n",
       "      <td>2</td>\n",
       "      <td>0</td>\n",
       "      <td>2</td>\n",
       "      <td>...</td>\n",
       "      <td>B</td>\n",
       "      <td>A</td>\n",
       "      <td>A</td>\n",
       "      <td>B</td>\n",
       "      <td>A</td>\n",
       "      <td>B</td>\n",
       "      <td>E</td>\n",
       "      <td>A</td>\n",
       "      <td>B</td>\n",
       "      <td>B</td>\n",
       "    </tr>\n",
       "  </tbody>\n",
       "</table>\n",
       "<p>5 rows × 76 columns</p>\n",
       "</div>"
      ],
      "text/plain": [
       "   NU_INSCRICAO  NU_ANO  TP_FAIXA_ETARIA TP_SEXO  TP_ESTADO_CIVIL  \\\n",
       "0  210053865474    2021                5       F                1   \n",
       "1  210052384164    2021               12       M                1   \n",
       "2  210052589243    2021               13       F                3   \n",
       "3  210052128335    2021                3       M                1   \n",
       "4  210051353021    2021                2       F                1   \n",
       "\n",
       "   TP_COR_RACA  TP_NACIONALIDADE  TP_ST_CONCLUSAO  TP_ANO_CONCLUIU  TP_ESCOLA  \\\n",
       "0            1                 1                1                3          1   \n",
       "1            1                 1                1               11          1   \n",
       "2            1                 1                1               15          1   \n",
       "3            3                 1                2                0          2   \n",
       "4            3                 1                2                0          2   \n",
       "\n",
       "   ...  Q016  Q017  Q018 Q019  Q020 Q021  Q022  Q023  Q024  Q025  \n",
       "0  ...     A     A     A    B     A    A     B     A     B     B  \n",
       "1  ...     A     A     A    B     A    A     C     A     A     A  \n",
       "2  ...     B     A     A    B     A    A     C     B     B     B  \n",
       "3  ...     A     A     A    B     A    A     B     A     B     B  \n",
       "4  ...     B     A     A    B     A    B     E     A     B     B  \n",
       "\n",
       "[5 rows x 76 columns]"
      ]
     },
     "execution_count": 4,
     "metadata": {},
     "output_type": "execute_result"
    }
   ],
   "source": [
    "# mostrando as primeiras linhas\n",
    "df.head()"
   ]
  },
  {
   "cell_type": "code",
   "execution_count": 5,
   "id": "7b0a7280",
   "metadata": {},
   "outputs": [
    {
     "data": {
      "text/plain": [
       "(3389832, 76)"
      ]
     },
     "execution_count": 5,
     "metadata": {},
     "output_type": "execute_result"
    }
   ],
   "source": [
    "df.shape"
   ]
  },
  {
   "cell_type": "markdown",
   "id": "ba31b373",
   "metadata": {},
   "source": [
    "Aqui já da para ver que é um dataset bem grande com mais de 3 milhões de linhas, talvez para análise computacionais mais profundas seja necessário, em decorrencia das limitações da capacidade do meu computador pessoal, reduzir o dataset."
   ]
  },
  {
   "cell_type": "code",
   "execution_count": 6,
   "id": "f34692ea",
   "metadata": {
    "scrolled": true
   },
   "outputs": [
    {
     "data": {
      "text/plain": [
       "NU_INSCRICAO        int64\n",
       "NU_ANO              int64\n",
       "TP_FAIXA_ETARIA     int64\n",
       "TP_SEXO            object\n",
       "TP_ESTADO_CIVIL     int64\n",
       "                    ...  \n",
       "Q021               object\n",
       "Q022               object\n",
       "Q023               object\n",
       "Q024               object\n",
       "Q025               object\n",
       "Length: 76, dtype: object"
      ]
     },
     "execution_count": 6,
     "metadata": {},
     "output_type": "execute_result"
    }
   ],
   "source": [
    "df.dtypes"
   ]
  },
  {
   "cell_type": "markdown",
   "id": "13c8b7d8",
   "metadata": {},
   "source": [
    "Nos tipos é possível ver que há variáveis categóricas que estão sendo entendidas como numéricas, por exemplo, estado civil e número da inscrição. Tratarei disso no decorrer do estudo."
   ]
  },
  {
   "cell_type": "code",
   "execution_count": 7,
   "id": "2515db60",
   "metadata": {
    "scrolled": true
   },
   "outputs": [
    {
     "data": {
      "text/plain": [
       "Index(['NU_INSCRICAO', 'NU_ANO', 'TP_FAIXA_ETARIA', 'TP_SEXO',\n",
       "       'TP_ESTADO_CIVIL', 'TP_COR_RACA', 'TP_NACIONALIDADE', 'TP_ST_CONCLUSAO',\n",
       "       'TP_ANO_CONCLUIU', 'TP_ESCOLA', 'TP_ENSINO', 'IN_TREINEIRO',\n",
       "       'CO_MUNICIPIO_ESC', 'NO_MUNICIPIO_ESC', 'CO_UF_ESC', 'SG_UF_ESC',\n",
       "       'TP_DEPENDENCIA_ADM_ESC', 'TP_LOCALIZACAO_ESC', 'TP_SIT_FUNC_ESC',\n",
       "       'CO_MUNICIPIO_PROVA', 'NO_MUNICIPIO_PROVA', 'CO_UF_PROVA',\n",
       "       'SG_UF_PROVA', 'TP_PRESENCA_CN', 'TP_PRESENCA_CH', 'TP_PRESENCA_LC',\n",
       "       'TP_PRESENCA_MT', 'CO_PROVA_CN', 'CO_PROVA_CH', 'CO_PROVA_LC',\n",
       "       'CO_PROVA_MT', 'NU_NOTA_CN', 'NU_NOTA_CH', 'NU_NOTA_LC', 'NU_NOTA_MT',\n",
       "       'TX_RESPOSTAS_CN', 'TX_RESPOSTAS_CH', 'TX_RESPOSTAS_LC',\n",
       "       'TX_RESPOSTAS_MT', 'TP_LINGUA', 'TX_GABARITO_CN', 'TX_GABARITO_CH',\n",
       "       'TX_GABARITO_LC', 'TX_GABARITO_MT', 'TP_STATUS_REDACAO',\n",
       "       'NU_NOTA_COMP1', 'NU_NOTA_COMP2', 'NU_NOTA_COMP3', 'NU_NOTA_COMP4',\n",
       "       'NU_NOTA_COMP5', 'NU_NOTA_REDACAO', 'Q001', 'Q002', 'Q003', 'Q004',\n",
       "       'Q005', 'Q006', 'Q007', 'Q008', 'Q009', 'Q010', 'Q011', 'Q012', 'Q013',\n",
       "       'Q014', 'Q015', 'Q016', 'Q017', 'Q018', 'Q019', 'Q020', 'Q021', 'Q022',\n",
       "       'Q023', 'Q024', 'Q025'],\n",
       "      dtype='object')"
      ]
     },
     "execution_count": 7,
     "metadata": {},
     "output_type": "execute_result"
    }
   ],
   "source": [
    "df.columns"
   ]
  },
  {
   "cell_type": "code",
   "execution_count": 8,
   "id": "04cdcc9a",
   "metadata": {},
   "outputs": [
    {
     "data": {
      "text/html": [
       "<div>\n",
       "<style scoped>\n",
       "    .dataframe tbody tr th:only-of-type {\n",
       "        vertical-align: middle;\n",
       "    }\n",
       "\n",
       "    .dataframe tbody tr th {\n",
       "        vertical-align: top;\n",
       "    }\n",
       "\n",
       "    .dataframe thead th {\n",
       "        text-align: right;\n",
       "    }\n",
       "</style>\n",
       "<table border=\"1\" class=\"dataframe\">\n",
       "  <thead>\n",
       "    <tr style=\"text-align: right;\">\n",
       "      <th></th>\n",
       "      <th>NU_INSCRICAO</th>\n",
       "      <th>NU_ANO</th>\n",
       "      <th>TP_FAIXA_ETARIA</th>\n",
       "      <th>TP_ESTADO_CIVIL</th>\n",
       "      <th>TP_COR_RACA</th>\n",
       "      <th>TP_NACIONALIDADE</th>\n",
       "      <th>TP_ST_CONCLUSAO</th>\n",
       "      <th>TP_ANO_CONCLUIU</th>\n",
       "      <th>TP_ESCOLA</th>\n",
       "      <th>TP_ENSINO</th>\n",
       "      <th>...</th>\n",
       "      <th>NU_NOTA_MT</th>\n",
       "      <th>TP_LINGUA</th>\n",
       "      <th>TP_STATUS_REDACAO</th>\n",
       "      <th>NU_NOTA_COMP1</th>\n",
       "      <th>NU_NOTA_COMP2</th>\n",
       "      <th>NU_NOTA_COMP3</th>\n",
       "      <th>NU_NOTA_COMP4</th>\n",
       "      <th>NU_NOTA_COMP5</th>\n",
       "      <th>NU_NOTA_REDACAO</th>\n",
       "      <th>Q005</th>\n",
       "    </tr>\n",
       "  </thead>\n",
       "  <tbody>\n",
       "    <tr>\n",
       "      <th>count</th>\n",
       "      <td>3.389832e+06</td>\n",
       "      <td>3389832.0</td>\n",
       "      <td>3.389832e+06</td>\n",
       "      <td>3.389832e+06</td>\n",
       "      <td>3.389832e+06</td>\n",
       "      <td>3.389832e+06</td>\n",
       "      <td>3.389832e+06</td>\n",
       "      <td>3.389832e+06</td>\n",
       "      <td>3.389832e+06</td>\n",
       "      <td>1.096828e+06</td>\n",
       "      <td>...</td>\n",
       "      <td>2.245844e+06</td>\n",
       "      <td>3.389832e+06</td>\n",
       "      <td>2.378379e+06</td>\n",
       "      <td>2.378379e+06</td>\n",
       "      <td>2.378379e+06</td>\n",
       "      <td>2.378379e+06</td>\n",
       "      <td>2.378379e+06</td>\n",
       "      <td>2.378379e+06</td>\n",
       "      <td>2.378379e+06</td>\n",
       "      <td>3.389830e+06</td>\n",
       "    </tr>\n",
       "    <tr>\n",
       "      <th>mean</th>\n",
       "      <td>2.100527e+11</td>\n",
       "      <td>2021.0</td>\n",
       "      <td>5.306013e+00</td>\n",
       "      <td>1.052073e+00</td>\n",
       "      <td>2.043491e+00</td>\n",
       "      <td>1.027106e+00</td>\n",
       "      <td>1.608430e+00</td>\n",
       "      <td>2.581980e+00</td>\n",
       "      <td>1.396214e+00</td>\n",
       "      <td>1.006295e+00</td>\n",
       "      <td>...</td>\n",
       "      <td>5.350802e+02</td>\n",
       "      <td>4.704640e-01</td>\n",
       "      <td>1.140684e+00</td>\n",
       "      <td>1.192657e+02</td>\n",
       "      <td>1.380269e+02</td>\n",
       "      <td>1.153117e+02</td>\n",
       "      <td>1.281853e+02</td>\n",
       "      <td>1.127109e+02</td>\n",
       "      <td>6.135005e+02</td>\n",
       "      <td>3.739557e+00</td>\n",
       "    </tr>\n",
       "    <tr>\n",
       "      <th>std</th>\n",
       "      <td>9.962403e+05</td>\n",
       "      <td>0.0</td>\n",
       "      <td>3.902871e+00</td>\n",
       "      <td>4.129414e-01</td>\n",
       "      <td>1.022561e+00</td>\n",
       "      <td>2.049293e-01</td>\n",
       "      <td>7.198306e-01</td>\n",
       "      <td>4.278731e+00</td>\n",
       "      <td>5.938455e-01</td>\n",
       "      <td>7.909361e-02</td>\n",
       "      <td>...</td>\n",
       "      <td>1.106267e+02</td>\n",
       "      <td>4.991269e-01</td>\n",
       "      <td>7.910804e-01</td>\n",
       "      <td>3.391962e+01</td>\n",
       "      <td>4.563224e+01</td>\n",
       "      <td>3.634138e+01</td>\n",
       "      <td>3.883252e+01</td>\n",
       "      <td>6.005667e+01</td>\n",
       "      <td>1.907142e+02</td>\n",
       "      <td>1.378942e+00</td>\n",
       "    </tr>\n",
       "    <tr>\n",
       "      <th>min</th>\n",
       "      <td>2.100510e+11</td>\n",
       "      <td>2021.0</td>\n",
       "      <td>1.000000e+00</td>\n",
       "      <td>0.000000e+00</td>\n",
       "      <td>0.000000e+00</td>\n",
       "      <td>0.000000e+00</td>\n",
       "      <td>1.000000e+00</td>\n",
       "      <td>0.000000e+00</td>\n",
       "      <td>1.000000e+00</td>\n",
       "      <td>1.000000e+00</td>\n",
       "      <td>...</td>\n",
       "      <td>0.000000e+00</td>\n",
       "      <td>0.000000e+00</td>\n",
       "      <td>1.000000e+00</td>\n",
       "      <td>0.000000e+00</td>\n",
       "      <td>0.000000e+00</td>\n",
       "      <td>0.000000e+00</td>\n",
       "      <td>0.000000e+00</td>\n",
       "      <td>0.000000e+00</td>\n",
       "      <td>0.000000e+00</td>\n",
       "      <td>1.000000e+00</td>\n",
       "    </tr>\n",
       "    <tr>\n",
       "      <th>25%</th>\n",
       "      <td>2.100519e+11</td>\n",
       "      <td>2021.0</td>\n",
       "      <td>2.000000e+00</td>\n",
       "      <td>1.000000e+00</td>\n",
       "      <td>1.000000e+00</td>\n",
       "      <td>1.000000e+00</td>\n",
       "      <td>1.000000e+00</td>\n",
       "      <td>0.000000e+00</td>\n",
       "      <td>1.000000e+00</td>\n",
       "      <td>1.000000e+00</td>\n",
       "      <td>...</td>\n",
       "      <td>4.447000e+02</td>\n",
       "      <td>0.000000e+00</td>\n",
       "      <td>1.000000e+00</td>\n",
       "      <td>1.000000e+02</td>\n",
       "      <td>1.200000e+02</td>\n",
       "      <td>1.000000e+02</td>\n",
       "      <td>1.200000e+02</td>\n",
       "      <td>8.000000e+01</td>\n",
       "      <td>5.200000e+02</td>\n",
       "      <td>3.000000e+00</td>\n",
       "    </tr>\n",
       "    <tr>\n",
       "      <th>50%</th>\n",
       "      <td>2.100527e+11</td>\n",
       "      <td>2021.0</td>\n",
       "      <td>4.000000e+00</td>\n",
       "      <td>1.000000e+00</td>\n",
       "      <td>2.000000e+00</td>\n",
       "      <td>1.000000e+00</td>\n",
       "      <td>1.000000e+00</td>\n",
       "      <td>0.000000e+00</td>\n",
       "      <td>1.000000e+00</td>\n",
       "      <td>1.000000e+00</td>\n",
       "      <td>...</td>\n",
       "      <td>5.154000e+02</td>\n",
       "      <td>0.000000e+00</td>\n",
       "      <td>1.000000e+00</td>\n",
       "      <td>1.200000e+02</td>\n",
       "      <td>1.200000e+02</td>\n",
       "      <td>1.200000e+02</td>\n",
       "      <td>1.200000e+02</td>\n",
       "      <td>1.200000e+02</td>\n",
       "      <td>6.000000e+02</td>\n",
       "      <td>4.000000e+00</td>\n",
       "    </tr>\n",
       "    <tr>\n",
       "      <th>75%</th>\n",
       "      <td>2.100536e+11</td>\n",
       "      <td>2021.0</td>\n",
       "      <td>7.000000e+00</td>\n",
       "      <td>1.000000e+00</td>\n",
       "      <td>3.000000e+00</td>\n",
       "      <td>1.000000e+00</td>\n",
       "      <td>2.000000e+00</td>\n",
       "      <td>3.000000e+00</td>\n",
       "      <td>2.000000e+00</td>\n",
       "      <td>1.000000e+00</td>\n",
       "      <td>...</td>\n",
       "      <td>6.139000e+02</td>\n",
       "      <td>1.000000e+00</td>\n",
       "      <td>1.000000e+00</td>\n",
       "      <td>1.400000e+02</td>\n",
       "      <td>1.800000e+02</td>\n",
       "      <td>1.400000e+02</td>\n",
       "      <td>1.600000e+02</td>\n",
       "      <td>1.600000e+02</td>\n",
       "      <td>7.400000e+02</td>\n",
       "      <td>4.000000e+00</td>\n",
       "    </tr>\n",
       "    <tr>\n",
       "      <th>max</th>\n",
       "      <td>2.100545e+11</td>\n",
       "      <td>2021.0</td>\n",
       "      <td>2.000000e+01</td>\n",
       "      <td>4.000000e+00</td>\n",
       "      <td>6.000000e+00</td>\n",
       "      <td>4.000000e+00</td>\n",
       "      <td>4.000000e+00</td>\n",
       "      <td>1.500000e+01</td>\n",
       "      <td>3.000000e+00</td>\n",
       "      <td>2.000000e+00</td>\n",
       "      <td>...</td>\n",
       "      <td>9.531000e+02</td>\n",
       "      <td>1.000000e+00</td>\n",
       "      <td>9.000000e+00</td>\n",
       "      <td>2.000000e+02</td>\n",
       "      <td>2.000000e+02</td>\n",
       "      <td>2.000000e+02</td>\n",
       "      <td>2.000000e+02</td>\n",
       "      <td>2.000000e+02</td>\n",
       "      <td>1.000000e+03</td>\n",
       "      <td>2.000000e+01</td>\n",
       "    </tr>\n",
       "  </tbody>\n",
       "</table>\n",
       "<p>8 rows × 39 columns</p>\n",
       "</div>"
      ],
      "text/plain": [
       "       NU_INSCRICAO     NU_ANO  TP_FAIXA_ETARIA  TP_ESTADO_CIVIL  \\\n",
       "count  3.389832e+06  3389832.0     3.389832e+06     3.389832e+06   \n",
       "mean   2.100527e+11     2021.0     5.306013e+00     1.052073e+00   \n",
       "std    9.962403e+05        0.0     3.902871e+00     4.129414e-01   \n",
       "min    2.100510e+11     2021.0     1.000000e+00     0.000000e+00   \n",
       "25%    2.100519e+11     2021.0     2.000000e+00     1.000000e+00   \n",
       "50%    2.100527e+11     2021.0     4.000000e+00     1.000000e+00   \n",
       "75%    2.100536e+11     2021.0     7.000000e+00     1.000000e+00   \n",
       "max    2.100545e+11     2021.0     2.000000e+01     4.000000e+00   \n",
       "\n",
       "        TP_COR_RACA  TP_NACIONALIDADE  TP_ST_CONCLUSAO  TP_ANO_CONCLUIU  \\\n",
       "count  3.389832e+06      3.389832e+06     3.389832e+06     3.389832e+06   \n",
       "mean   2.043491e+00      1.027106e+00     1.608430e+00     2.581980e+00   \n",
       "std    1.022561e+00      2.049293e-01     7.198306e-01     4.278731e+00   \n",
       "min    0.000000e+00      0.000000e+00     1.000000e+00     0.000000e+00   \n",
       "25%    1.000000e+00      1.000000e+00     1.000000e+00     0.000000e+00   \n",
       "50%    2.000000e+00      1.000000e+00     1.000000e+00     0.000000e+00   \n",
       "75%    3.000000e+00      1.000000e+00     2.000000e+00     3.000000e+00   \n",
       "max    6.000000e+00      4.000000e+00     4.000000e+00     1.500000e+01   \n",
       "\n",
       "          TP_ESCOLA     TP_ENSINO  ...    NU_NOTA_MT     TP_LINGUA  \\\n",
       "count  3.389832e+06  1.096828e+06  ...  2.245844e+06  3.389832e+06   \n",
       "mean   1.396214e+00  1.006295e+00  ...  5.350802e+02  4.704640e-01   \n",
       "std    5.938455e-01  7.909361e-02  ...  1.106267e+02  4.991269e-01   \n",
       "min    1.000000e+00  1.000000e+00  ...  0.000000e+00  0.000000e+00   \n",
       "25%    1.000000e+00  1.000000e+00  ...  4.447000e+02  0.000000e+00   \n",
       "50%    1.000000e+00  1.000000e+00  ...  5.154000e+02  0.000000e+00   \n",
       "75%    2.000000e+00  1.000000e+00  ...  6.139000e+02  1.000000e+00   \n",
       "max    3.000000e+00  2.000000e+00  ...  9.531000e+02  1.000000e+00   \n",
       "\n",
       "       TP_STATUS_REDACAO  NU_NOTA_COMP1  NU_NOTA_COMP2  NU_NOTA_COMP3  \\\n",
       "count       2.378379e+06   2.378379e+06   2.378379e+06   2.378379e+06   \n",
       "mean        1.140684e+00   1.192657e+02   1.380269e+02   1.153117e+02   \n",
       "std         7.910804e-01   3.391962e+01   4.563224e+01   3.634138e+01   \n",
       "min         1.000000e+00   0.000000e+00   0.000000e+00   0.000000e+00   \n",
       "25%         1.000000e+00   1.000000e+02   1.200000e+02   1.000000e+02   \n",
       "50%         1.000000e+00   1.200000e+02   1.200000e+02   1.200000e+02   \n",
       "75%         1.000000e+00   1.400000e+02   1.800000e+02   1.400000e+02   \n",
       "max         9.000000e+00   2.000000e+02   2.000000e+02   2.000000e+02   \n",
       "\n",
       "       NU_NOTA_COMP4  NU_NOTA_COMP5  NU_NOTA_REDACAO          Q005  \n",
       "count   2.378379e+06   2.378379e+06     2.378379e+06  3.389830e+06  \n",
       "mean    1.281853e+02   1.127109e+02     6.135005e+02  3.739557e+00  \n",
       "std     3.883252e+01   6.005667e+01     1.907142e+02  1.378942e+00  \n",
       "min     0.000000e+00   0.000000e+00     0.000000e+00  1.000000e+00  \n",
       "25%     1.200000e+02   8.000000e+01     5.200000e+02  3.000000e+00  \n",
       "50%     1.200000e+02   1.200000e+02     6.000000e+02  4.000000e+00  \n",
       "75%     1.600000e+02   1.600000e+02     7.400000e+02  4.000000e+00  \n",
       "max     2.000000e+02   2.000000e+02     1.000000e+03  2.000000e+01  \n",
       "\n",
       "[8 rows x 39 columns]"
      ]
     },
     "execution_count": 8,
     "metadata": {},
     "output_type": "execute_result"
    }
   ],
   "source": [
    "df.describe()"
   ]
  },
  {
   "cell_type": "code",
   "execution_count": 9,
   "id": "fc8dc304",
   "metadata": {},
   "outputs": [
    {
     "data": {
      "text/plain": [
       "count    3.389832e+06\n",
       "mean     5.306013e+00\n",
       "std      3.902871e+00\n",
       "min      1.000000e+00\n",
       "25%      2.000000e+00\n",
       "50%      4.000000e+00\n",
       "75%      7.000000e+00\n",
       "max      2.000000e+01\n",
       "Name: TP_FAIXA_ETARIA, dtype: float64"
      ]
     },
     "execution_count": 9,
     "metadata": {},
     "output_type": "execute_result"
    }
   ],
   "source": [
    "df['TP_FAIXA_ETARIA'].describe()"
   ]
  },
  {
   "cell_type": "markdown",
   "id": "2cec9fef",
   "metadata": {},
   "source": [
    "### Aqui causa uma estranhesa que terei que recorrer ao dicionário dos dados\n",
    "Por exemplo que média de faixa etária é igual a 5. Consulto a documentação do conjunto de dados e descubro que é realizado por categorias que abarcam um intervalo de idade.\n",
    "\n",
    "Por exemplo, categoria 5 representa os 20 anos e categoria 20 representa pessoas com mais de 70 anos. Numa parte final de apresentação dos dados seria necessário apresentar essa informação ao apresentar os resultados da pesquisa.\n"
   ]
  },
  {
   "cell_type": "code",
   "execution_count": 10,
   "id": "c9c2fb75",
   "metadata": {
    "scrolled": true
   },
   "outputs": [
    {
     "data": {
      "text/plain": [
       "NU_INSCRICAO       0\n",
       "NU_ANO             0\n",
       "TP_FAIXA_ETARIA    0\n",
       "TP_SEXO            0\n",
       "TP_ESTADO_CIVIL    0\n",
       "                  ..\n",
       "Q021               2\n",
       "Q022               2\n",
       "Q023               2\n",
       "Q024               2\n",
       "Q025               2\n",
       "Length: 76, dtype: int64"
      ]
     },
     "execution_count": 10,
     "metadata": {},
     "output_type": "execute_result"
    }
   ],
   "source": [
    "df.isna().sum()"
   ]
  },
  {
   "cell_type": "markdown",
   "id": "368f586d",
   "metadata": {},
   "source": [
    "### Documentação da raça está em categoria também, por enquanto, vou deixar assim se necessário tentarei converter para outro tipo\n",
    "Por enquanto, basta entender que\n",
    "    0:\tNão declarado,\n",
    "    1:\tBranca,\n",
    "    2:\tPreta,\n",
    "    3:\tParda,\n",
    "    4:\tAmarela,\n",
    "    5:\tIndígena, \n",
    "    6:\tNão dispõe da informação.\n"
   ]
  },
  {
   "cell_type": "code",
   "execution_count": 11,
   "id": "a67a2588",
   "metadata": {},
   "outputs": [],
   "source": [
    "# conversão da raça para objeto do tipo texto, não quero que seja tratado como número, visto que representa apenas uma categoria"
   ]
  },
  {
   "cell_type": "code",
   "execution_count": 12,
   "id": "2286bf9b",
   "metadata": {},
   "outputs": [],
   "source": [
    "df['TP_COR_RACA'] = df['TP_COR_RACA'].astype('str')"
   ]
  },
  {
   "cell_type": "code",
   "execution_count": 13,
   "id": "d661d670",
   "metadata": {},
   "outputs": [
    {
     "data": {
      "text/plain": [
       "3    1457454\n",
       "1    1362256\n",
       "2     411302\n",
       "0      71149\n",
       "4      68491\n",
       "5      19175\n",
       "6          5\n",
       "Name: TP_COR_RACA, dtype: int64"
      ]
     },
     "execution_count": 13,
     "metadata": {},
     "output_type": "execute_result"
    }
   ],
   "source": [
    "df['TP_COR_RACA'].value_counts()"
   ]
  },
  {
   "cell_type": "markdown",
   "id": "5eea6a7e",
   "metadata": {},
   "source": [
    "Aqui vemos que o que mais aparece no conjunto de dados é 3 e 1, respectivamente, pardo e branco."
   ]
  },
  {
   "cell_type": "code",
   "execution_count": 14,
   "id": "b262bc6a",
   "metadata": {},
   "outputs": [
    {
     "data": {
      "text/plain": [
       "dtype('O')"
      ]
     },
     "execution_count": 14,
     "metadata": {},
     "output_type": "execute_result"
    }
   ],
   "source": [
    "df['TP_COR_RACA'].dtype"
   ]
  },
  {
   "cell_type": "markdown",
   "id": "59c6c189",
   "metadata": {},
   "source": [
    "## 4. Convertendo todo dataframe para os tipos apropriados."
   ]
  },
  {
   "cell_type": "code",
   "execution_count": 15,
   "id": "2bd56967",
   "metadata": {},
   "outputs": [],
   "source": [
    "df = df.astype(\"category\")"
   ]
  },
  {
   "cell_type": "code",
   "execution_count": 16,
   "id": "da238cb1",
   "metadata": {
    "scrolled": true
   },
   "outputs": [
    {
     "data": {
      "text/plain": [
       "NU_INSCRICAO       category\n",
       "NU_ANO             category\n",
       "TP_FAIXA_ETARIA    category\n",
       "TP_SEXO            category\n",
       "TP_ESTADO_CIVIL    category\n",
       "                     ...   \n",
       "Q021               category\n",
       "Q022               category\n",
       "Q023               category\n",
       "Q024               category\n",
       "Q025               category\n",
       "Length: 76, dtype: object"
      ]
     },
     "execution_count": 16,
     "metadata": {},
     "output_type": "execute_result"
    }
   ],
   "source": [
    "df.dtypes"
   ]
  },
  {
   "cell_type": "code",
   "execution_count": 17,
   "id": "eaa515e3",
   "metadata": {},
   "outputs": [],
   "source": [
    "df[['NU_NOTA_CN', 'NU_NOTA_CH', 'NU_NOTA_LC', 'NU_NOTA_MT','NU_NOTA_COMP1','NU_NOTA_COMP2','NU_NOTA_COMP3', 'NU_NOTA_COMP4', 'NU_NOTA_COMP5','NU_NOTA_REDACAO']] = df[['NU_NOTA_CN', 'NU_NOTA_CH', 'NU_NOTA_LC', 'NU_NOTA_MT','NU_NOTA_COMP1','NU_NOTA_COMP2','NU_NOTA_COMP3', 'NU_NOTA_COMP4', 'NU_NOTA_COMP5','NU_NOTA_REDACAO']].astype('float')"
   ]
  },
  {
   "cell_type": "markdown",
   "id": "78efea0e",
   "metadata": {},
   "source": [
    "Como se pode ver eu optei por converter todo dataframe para object e depois converti apenas as colunas que possuem as notas para numerico"
   ]
  },
  {
   "cell_type": "code",
   "execution_count": 18,
   "id": "9163caf5",
   "metadata": {},
   "outputs": [
    {
     "data": {
      "text/plain": [
       "NU_INSCRICAO       category\n",
       "NU_ANO             category\n",
       "TP_FAIXA_ETARIA    category\n",
       "TP_SEXO            category\n",
       "TP_ESTADO_CIVIL    category\n",
       "                     ...   \n",
       "Q021               category\n",
       "Q022               category\n",
       "Q023               category\n",
       "Q024               category\n",
       "Q025               category\n",
       "Length: 76, dtype: object"
      ]
     },
     "execution_count": 18,
     "metadata": {},
     "output_type": "execute_result"
    }
   ],
   "source": [
    "df.dtypes"
   ]
  },
  {
   "cell_type": "markdown",
   "id": "628eeae5",
   "metadata": {},
   "source": [
    "## Detectando valores ausentes"
   ]
  },
  {
   "cell_type": "code",
   "execution_count": 19,
   "id": "51573940",
   "metadata": {
    "scrolled": true
   },
   "outputs": [
    {
     "data": {
      "text/plain": [
       "44648935"
      ]
     },
     "execution_count": 19,
     "metadata": {},
     "output_type": "execute_result"
    }
   ],
   "source": [
    "df.isna().sum().sum()"
   ]
  },
  {
   "cell_type": "code",
   "execution_count": 20,
   "id": "3afcf3ac",
   "metadata": {
    "scrolled": false
   },
   "outputs": [
    {
     "data": {
      "text/plain": [
       "NU_INSCRICAO       0\n",
       "NU_ANO             0\n",
       "TP_FAIXA_ETARIA    0\n",
       "TP_SEXO            0\n",
       "TP_ESTADO_CIVIL    0\n",
       "                  ..\n",
       "Q021               2\n",
       "Q022               2\n",
       "Q023               2\n",
       "Q024               2\n",
       "Q025               2\n",
       "Length: 76, dtype: int64"
      ]
     },
     "execution_count": 20,
     "metadata": {},
     "output_type": "execute_result"
    }
   ],
   "source": [
    "df.isnull().sum()"
   ]
  },
  {
   "cell_type": "code",
   "execution_count": 21,
   "id": "d7be762e",
   "metadata": {},
   "outputs": [
    {
     "data": {
      "text/html": [
       "<div>\n",
       "<style scoped>\n",
       "    .dataframe tbody tr th:only-of-type {\n",
       "        vertical-align: middle;\n",
       "    }\n",
       "\n",
       "    .dataframe tbody tr th {\n",
       "        vertical-align: top;\n",
       "    }\n",
       "\n",
       "    .dataframe thead th {\n",
       "        text-align: right;\n",
       "    }\n",
       "</style>\n",
       "<table border=\"1\" class=\"dataframe\">\n",
       "  <thead>\n",
       "    <tr style=\"text-align: right;\">\n",
       "      <th></th>\n",
       "      <th>NU_NOTA_CN</th>\n",
       "      <th>NU_NOTA_CH</th>\n",
       "      <th>NU_NOTA_LC</th>\n",
       "      <th>NU_NOTA_MT</th>\n",
       "      <th>NU_NOTA_COMP1</th>\n",
       "      <th>NU_NOTA_COMP2</th>\n",
       "      <th>NU_NOTA_COMP3</th>\n",
       "      <th>NU_NOTA_COMP4</th>\n",
       "      <th>NU_NOTA_COMP5</th>\n",
       "      <th>NU_NOTA_REDACAO</th>\n",
       "    </tr>\n",
       "  </thead>\n",
       "  <tbody>\n",
       "    <tr>\n",
       "      <th>count</th>\n",
       "      <td>2.245844e+06</td>\n",
       "      <td>2.378379e+06</td>\n",
       "      <td>2.378379e+06</td>\n",
       "      <td>2.245844e+06</td>\n",
       "      <td>2.378379e+06</td>\n",
       "      <td>2.378379e+06</td>\n",
       "      <td>2.378379e+06</td>\n",
       "      <td>2.378379e+06</td>\n",
       "      <td>2.378379e+06</td>\n",
       "      <td>2.378379e+06</td>\n",
       "    </tr>\n",
       "    <tr>\n",
       "      <th>mean</th>\n",
       "      <td>4.917857e+02</td>\n",
       "      <td>5.199434e+02</td>\n",
       "      <td>5.025556e+02</td>\n",
       "      <td>5.350802e+02</td>\n",
       "      <td>1.192657e+02</td>\n",
       "      <td>1.380269e+02</td>\n",
       "      <td>1.153117e+02</td>\n",
       "      <td>1.281853e+02</td>\n",
       "      <td>1.127109e+02</td>\n",
       "      <td>6.135005e+02</td>\n",
       "    </tr>\n",
       "    <tr>\n",
       "      <th>std</th>\n",
       "      <td>8.056676e+01</td>\n",
       "      <td>9.579050e+01</td>\n",
       "      <td>7.916405e+01</td>\n",
       "      <td>1.106267e+02</td>\n",
       "      <td>3.391962e+01</td>\n",
       "      <td>4.563224e+01</td>\n",
       "      <td>3.634138e+01</td>\n",
       "      <td>3.883252e+01</td>\n",
       "      <td>6.005667e+01</td>\n",
       "      <td>1.907142e+02</td>\n",
       "    </tr>\n",
       "    <tr>\n",
       "      <th>min</th>\n",
       "      <td>0.000000e+00</td>\n",
       "      <td>0.000000e+00</td>\n",
       "      <td>0.000000e+00</td>\n",
       "      <td>0.000000e+00</td>\n",
       "      <td>0.000000e+00</td>\n",
       "      <td>0.000000e+00</td>\n",
       "      <td>0.000000e+00</td>\n",
       "      <td>0.000000e+00</td>\n",
       "      <td>0.000000e+00</td>\n",
       "      <td>0.000000e+00</td>\n",
       "    </tr>\n",
       "    <tr>\n",
       "      <th>25%</th>\n",
       "      <td>4.310000e+02</td>\n",
       "      <td>4.454000e+02</td>\n",
       "      <td>4.476000e+02</td>\n",
       "      <td>4.447000e+02</td>\n",
       "      <td>1.000000e+02</td>\n",
       "      <td>1.200000e+02</td>\n",
       "      <td>1.000000e+02</td>\n",
       "      <td>1.200000e+02</td>\n",
       "      <td>8.000000e+01</td>\n",
       "      <td>5.200000e+02</td>\n",
       "    </tr>\n",
       "    <tr>\n",
       "      <th>50%</th>\n",
       "      <td>4.820000e+02</td>\n",
       "      <td>5.219000e+02</td>\n",
       "      <td>5.059000e+02</td>\n",
       "      <td>5.154000e+02</td>\n",
       "      <td>1.200000e+02</td>\n",
       "      <td>1.200000e+02</td>\n",
       "      <td>1.200000e+02</td>\n",
       "      <td>1.200000e+02</td>\n",
       "      <td>1.200000e+02</td>\n",
       "      <td>6.000000e+02</td>\n",
       "    </tr>\n",
       "    <tr>\n",
       "      <th>75%</th>\n",
       "      <td>5.458000e+02</td>\n",
       "      <td>5.893000e+02</td>\n",
       "      <td>5.588000e+02</td>\n",
       "      <td>6.139000e+02</td>\n",
       "      <td>1.400000e+02</td>\n",
       "      <td>1.800000e+02</td>\n",
       "      <td>1.400000e+02</td>\n",
       "      <td>1.600000e+02</td>\n",
       "      <td>1.600000e+02</td>\n",
       "      <td>7.400000e+02</td>\n",
       "    </tr>\n",
       "    <tr>\n",
       "      <th>max</th>\n",
       "      <td>8.671000e+02</td>\n",
       "      <td>8.469000e+02</td>\n",
       "      <td>8.261000e+02</td>\n",
       "      <td>9.531000e+02</td>\n",
       "      <td>2.000000e+02</td>\n",
       "      <td>2.000000e+02</td>\n",
       "      <td>2.000000e+02</td>\n",
       "      <td>2.000000e+02</td>\n",
       "      <td>2.000000e+02</td>\n",
       "      <td>1.000000e+03</td>\n",
       "    </tr>\n",
       "  </tbody>\n",
       "</table>\n",
       "</div>"
      ],
      "text/plain": [
       "         NU_NOTA_CN    NU_NOTA_CH    NU_NOTA_LC    NU_NOTA_MT  NU_NOTA_COMP1  \\\n",
       "count  2.245844e+06  2.378379e+06  2.378379e+06  2.245844e+06   2.378379e+06   \n",
       "mean   4.917857e+02  5.199434e+02  5.025556e+02  5.350802e+02   1.192657e+02   \n",
       "std    8.056676e+01  9.579050e+01  7.916405e+01  1.106267e+02   3.391962e+01   \n",
       "min    0.000000e+00  0.000000e+00  0.000000e+00  0.000000e+00   0.000000e+00   \n",
       "25%    4.310000e+02  4.454000e+02  4.476000e+02  4.447000e+02   1.000000e+02   \n",
       "50%    4.820000e+02  5.219000e+02  5.059000e+02  5.154000e+02   1.200000e+02   \n",
       "75%    5.458000e+02  5.893000e+02  5.588000e+02  6.139000e+02   1.400000e+02   \n",
       "max    8.671000e+02  8.469000e+02  8.261000e+02  9.531000e+02   2.000000e+02   \n",
       "\n",
       "       NU_NOTA_COMP2  NU_NOTA_COMP3  NU_NOTA_COMP4  NU_NOTA_COMP5  \\\n",
       "count   2.378379e+06   2.378379e+06   2.378379e+06   2.378379e+06   \n",
       "mean    1.380269e+02   1.153117e+02   1.281853e+02   1.127109e+02   \n",
       "std     4.563224e+01   3.634138e+01   3.883252e+01   6.005667e+01   \n",
       "min     0.000000e+00   0.000000e+00   0.000000e+00   0.000000e+00   \n",
       "25%     1.200000e+02   1.000000e+02   1.200000e+02   8.000000e+01   \n",
       "50%     1.200000e+02   1.200000e+02   1.200000e+02   1.200000e+02   \n",
       "75%     1.800000e+02   1.400000e+02   1.600000e+02   1.600000e+02   \n",
       "max     2.000000e+02   2.000000e+02   2.000000e+02   2.000000e+02   \n",
       "\n",
       "       NU_NOTA_REDACAO  \n",
       "count     2.378379e+06  \n",
       "mean      6.135005e+02  \n",
       "std       1.907142e+02  \n",
       "min       0.000000e+00  \n",
       "25%       5.200000e+02  \n",
       "50%       6.000000e+02  \n",
       "75%       7.400000e+02  \n",
       "max       1.000000e+03  "
      ]
     },
     "execution_count": 21,
     "metadata": {},
     "output_type": "execute_result"
    }
   ],
   "source": [
    "df.describe()"
   ]
  },
  {
   "cell_type": "code",
   "execution_count": 22,
   "id": "a33dd83a",
   "metadata": {},
   "outputs": [
    {
     "name": "stdout",
     "output_type": "stream",
     "text": [
      "coluna  NU_INSCRICAO possui  0.0 % de valores ausentes\n",
      "coluna  NU_ANO possui  0.0 % de valores ausentes\n",
      "coluna  TP_FAIXA_ETARIA possui  0.0 % de valores ausentes\n",
      "coluna  TP_SEXO possui  0.0 % de valores ausentes\n",
      "coluna  TP_ESTADO_CIVIL possui  0.0 % de valores ausentes\n",
      "coluna  TP_COR_RACA possui  0.0 % de valores ausentes\n",
      "coluna  TP_NACIONALIDADE possui  0.0 % de valores ausentes\n",
      "coluna  TP_ST_CONCLUSAO possui  0.0 % de valores ausentes\n",
      "coluna  TP_ANO_CONCLUIU possui  0.0 % de valores ausentes\n",
      "coluna  TP_ESCOLA possui  0.0 % de valores ausentes\n",
      "coluna  TP_ENSINO possui  67.64 % de valores ausentes\n",
      "coluna  IN_TREINEIRO possui  0.0 % de valores ausentes\n",
      "coluna  CO_MUNICIPIO_ESC possui  75.99 % de valores ausentes\n",
      "coluna  NO_MUNICIPIO_ESC possui  75.99 % de valores ausentes\n",
      "coluna  CO_UF_ESC possui  75.99 % de valores ausentes\n",
      "coluna  SG_UF_ESC possui  75.99 % de valores ausentes\n",
      "coluna  TP_DEPENDENCIA_ADM_ESC possui  75.99 % de valores ausentes\n",
      "coluna  TP_LOCALIZACAO_ESC possui  75.99 % de valores ausentes\n",
      "coluna  TP_SIT_FUNC_ESC possui  75.99 % de valores ausentes\n",
      "coluna  CO_MUNICIPIO_PROVA possui  0.0 % de valores ausentes\n",
      "coluna  NO_MUNICIPIO_PROVA possui  0.0 % de valores ausentes\n",
      "coluna  CO_UF_PROVA possui  0.0 % de valores ausentes\n",
      "coluna  SG_UF_PROVA possui  0.0 % de valores ausentes\n",
      "coluna  TP_PRESENCA_CN possui  0.0 % de valores ausentes\n",
      "coluna  TP_PRESENCA_CH possui  0.0 % de valores ausentes\n",
      "coluna  TP_PRESENCA_LC possui  0.0 % de valores ausentes\n",
      "coluna  TP_PRESENCA_MT possui  0.0 % de valores ausentes\n",
      "coluna  CO_PROVA_CN possui  33.75 % de valores ausentes\n",
      "coluna  CO_PROVA_CH possui  29.84 % de valores ausentes\n",
      "coluna  CO_PROVA_LC possui  29.84 % de valores ausentes\n",
      "coluna  CO_PROVA_MT possui  33.75 % de valores ausentes\n",
      "coluna  NU_NOTA_CN possui  33.75 % de valores ausentes\n",
      "coluna  NU_NOTA_CH possui  29.84 % de valores ausentes\n",
      "coluna  NU_NOTA_LC possui  29.84 % de valores ausentes\n",
      "coluna  NU_NOTA_MT possui  33.75 % de valores ausentes\n",
      "coluna  TX_RESPOSTAS_CN possui  33.75 % de valores ausentes\n",
      "coluna  TX_RESPOSTAS_CH possui  29.84 % de valores ausentes\n",
      "coluna  TX_RESPOSTAS_LC possui  29.84 % de valores ausentes\n",
      "coluna  TX_RESPOSTAS_MT possui  33.75 % de valores ausentes\n",
      "coluna  TP_LINGUA possui  0.0 % de valores ausentes\n",
      "coluna  TX_GABARITO_CN possui  33.75 % de valores ausentes\n",
      "coluna  TX_GABARITO_CH possui  29.84 % de valores ausentes\n",
      "coluna  TX_GABARITO_LC possui  29.84 % de valores ausentes\n",
      "coluna  TX_GABARITO_MT possui  33.75 % de valores ausentes\n",
      "coluna  TP_STATUS_REDACAO possui  29.84 % de valores ausentes\n",
      "coluna  NU_NOTA_COMP1 possui  29.84 % de valores ausentes\n",
      "coluna  NU_NOTA_COMP2 possui  29.84 % de valores ausentes\n",
      "coluna  NU_NOTA_COMP3 possui  29.84 % de valores ausentes\n",
      "coluna  NU_NOTA_COMP4 possui  29.84 % de valores ausentes\n",
      "coluna  NU_NOTA_COMP5 possui  29.84 % de valores ausentes\n",
      "coluna  NU_NOTA_REDACAO possui  29.84 % de valores ausentes\n",
      "coluna  Q001 possui  0.0 % de valores ausentes\n",
      "coluna  Q002 possui  0.0 % de valores ausentes\n",
      "coluna  Q003 possui  0.0 % de valores ausentes\n",
      "coluna  Q004 possui  0.0 % de valores ausentes\n",
      "coluna  Q005 possui  0.0 % de valores ausentes\n",
      "coluna  Q006 possui  0.0 % de valores ausentes\n",
      "coluna  Q007 possui  0.0 % de valores ausentes\n",
      "coluna  Q008 possui  0.0 % de valores ausentes\n",
      "coluna  Q009 possui  0.0 % de valores ausentes\n",
      "coluna  Q010 possui  0.0 % de valores ausentes\n",
      "coluna  Q011 possui  0.0 % de valores ausentes\n",
      "coluna  Q012 possui  0.0 % de valores ausentes\n",
      "coluna  Q013 possui  0.0 % de valores ausentes\n",
      "coluna  Q014 possui  0.0 % de valores ausentes\n",
      "coluna  Q015 possui  0.0 % de valores ausentes\n",
      "coluna  Q016 possui  0.0 % de valores ausentes\n",
      "coluna  Q017 possui  0.0 % de valores ausentes\n",
      "coluna  Q018 possui  0.0 % de valores ausentes\n",
      "coluna  Q019 possui  0.0 % de valores ausentes\n",
      "coluna  Q020 possui  0.0 % de valores ausentes\n",
      "coluna  Q021 possui  0.0 % de valores ausentes\n",
      "coluna  Q022 possui  0.0 % de valores ausentes\n",
      "coluna  Q023 possui  0.0 % de valores ausentes\n",
      "coluna  Q024 possui  0.0 % de valores ausentes\n",
      "coluna  Q025 possui  0.0 % de valores ausentes\n"
     ]
    }
   ],
   "source": [
    "for i in df:\n",
    "    x = ((df[i].isna().sum()/len(df[i]))*100).round(2)\n",
    "    print('coluna ',i,'possui ',x,'% de valores ausentes')"
   ]
  },
  {
   "cell_type": "code",
   "execution_count": null,
   "id": "094633c4",
   "metadata": {},
   "outputs": [],
   "source": []
  }
 ],
 "metadata": {
  "kernelspec": {
   "display_name": "Python 3 (ipykernel)",
   "language": "python",
   "name": "python3"
  },
  "language_info": {
   "codemirror_mode": {
    "name": "ipython",
    "version": 3
   },
   "file_extension": ".py",
   "mimetype": "text/x-python",
   "name": "python",
   "nbconvert_exporter": "python",
   "pygments_lexer": "ipython3",
   "version": "3.10.0"
  }
 },
 "nbformat": 4,
 "nbformat_minor": 5
}
