{
 "cells": [
  {
   "cell_type": "markdown",
   "id": "e4e567de",
   "metadata": {},
   "source": [
    "## 1. Importação das bibliotecas padrões para tratamento de dados"
   ]
  },
  {
   "cell_type": "code",
   "execution_count": 1,
   "id": "b9505764",
   "metadata": {},
   "outputs": [],
   "source": [
    "import pandas as pd\n",
    "import numpy as np\n",
    "import seaborn as sns\n",
    "import matplotlib.pyplot as plt"
   ]
  },
  {
   "cell_type": "markdown",
   "id": "06887b19",
   "metadata": {},
   "source": [
    "## 2. Importação do dataset do enem 2021"
   ]
  },
  {
   "cell_type": "code",
   "execution_count": 2,
   "id": "af421caf",
   "metadata": {},
   "outputs": [
    {
     "ename": "FileNotFoundError",
     "evalue": "[Errno 2] No such file or directory: 'microdados_enem_2021.csv'",
     "output_type": "error",
     "traceback": [
      "\u001b[1;31m---------------------------------------------------------------------------\u001b[0m",
      "\u001b[1;31mFileNotFoundError\u001b[0m                         Traceback (most recent call last)",
      "\u001b[1;32m~\\AppData\\Local\\Temp/ipykernel_5692/2995428401.py\u001b[0m in \u001b[0;36m<module>\u001b[1;34m\u001b[0m\n\u001b[0;32m      1\u001b[0m \u001b[1;31m#descobrindo o encode dos dados\u001b[0m\u001b[1;33m\u001b[0m\u001b[1;33m\u001b[0m\u001b[0m\n\u001b[1;32m----> 2\u001b[1;33m \u001b[1;32mwith\u001b[0m \u001b[0mopen\u001b[0m\u001b[1;33m(\u001b[0m\u001b[1;34m'microdados_enem_2021.csv'\u001b[0m\u001b[1;33m)\u001b[0m \u001b[1;32mas\u001b[0m \u001b[0mf\u001b[0m\u001b[1;33m:\u001b[0m\u001b[1;33m\u001b[0m\u001b[1;33m\u001b[0m\u001b[0m\n\u001b[0m\u001b[0;32m      3\u001b[0m     \u001b[0mprint\u001b[0m\u001b[1;33m(\u001b[0m\u001b[0mf\u001b[0m\u001b[1;33m)\u001b[0m\u001b[1;33m\u001b[0m\u001b[1;33m\u001b[0m\u001b[0m\n",
      "\u001b[1;31mFileNotFoundError\u001b[0m: [Errno 2] No such file or directory: 'microdados_enem_2021.csv'"
     ]
    }
   ],
   "source": [
    "#descobrindo o encode dos dados\n",
    "with open('microdados_enem_2021.csv') as f:\n",
    "    print(f)"
   ]
  },
  {
   "cell_type": "code",
   "execution_count": null,
   "id": "93363065",
   "metadata": {
    "scrolled": true
   },
   "outputs": [],
   "source": [
    "%%time\n",
    "\n",
    "df = pd.read_csv('microdados_enem_2021.csv', sep=';', encoding = 'cp1252')"
   ]
  },
  {
   "cell_type": "markdown",
   "id": "54094966",
   "metadata": {},
   "source": [
    "## 3. Conhecendo o dataset"
   ]
  },
  {
   "cell_type": "code",
   "execution_count": null,
   "id": "354ad33a",
   "metadata": {},
   "outputs": [],
   "source": [
    "# mostrando as primeiras linhas\n",
    "df.head()"
   ]
  },
  {
   "cell_type": "code",
   "execution_count": null,
   "id": "7b0a7280",
   "metadata": {},
   "outputs": [],
   "source": [
    "df.shape"
   ]
  },
  {
   "cell_type": "markdown",
   "id": "ba31b373",
   "metadata": {},
   "source": [
    "Aqui já da para ver que é um dataset bem grande com mais de 3 milhões de linhas, talvez para análise computacionais mais profundas seja necessário, em decorrencia das limitações da capacidade do meu computador pessoal, reduzir o dataset."
   ]
  },
  {
   "cell_type": "code",
   "execution_count": null,
   "id": "f34692ea",
   "metadata": {
    "scrolled": true
   },
   "outputs": [],
   "source": [
    "df.dtypes"
   ]
  },
  {
   "cell_type": "markdown",
   "id": "13c8b7d8",
   "metadata": {},
   "source": [
    "Nos tipos é possível ver que há variáveis categóricas que estão sendo entendidas como numéricas, por exemplo, estado civil e número da inscrição. Tratarei disso no decorrer do estudo."
   ]
  },
  {
   "cell_type": "code",
   "execution_count": null,
   "id": "2515db60",
   "metadata": {
    "scrolled": true
   },
   "outputs": [],
   "source": [
    "df.columns"
   ]
  },
  {
   "cell_type": "code",
   "execution_count": null,
   "id": "04cdcc9a",
   "metadata": {},
   "outputs": [],
   "source": [
    "df.describe()"
   ]
  },
  {
   "cell_type": "code",
   "execution_count": null,
   "id": "fc8dc304",
   "metadata": {},
   "outputs": [],
   "source": [
    "df['TP_FAIXA_ETARIA'].describe()"
   ]
  },
  {
   "cell_type": "markdown",
   "id": "2cec9fef",
   "metadata": {},
   "source": [
    "### Aqui causa uma estranhesa que terei que recorrer ao dicionário dos dados\n",
    "Por exemplo que média de faixa etária é igual a 5. Consulto a documentação do conjunto de dados e descubro que é realizado por categorias que abarcam um intervalo de idade.\n",
    "\n",
    "Por exemplo, categoria 5 representa os 20 anos e categoria 20 representa pessoas com mais de 70 anos. Numa parte final de apresentação dos dados seria necessário apresentar essa informação ao apresentar os resultados da pesquisa.\n"
   ]
  },
  {
   "cell_type": "code",
   "execution_count": null,
   "id": "c9c2fb75",
   "metadata": {
    "scrolled": true
   },
   "outputs": [],
   "source": [
    "df.isna().sum()"
   ]
  },
  {
   "cell_type": "markdown",
   "id": "368f586d",
   "metadata": {},
   "source": [
    "### Documentação da raça está em categoria também, por enquanto, vou deixar assim se necessário tentarei converter para outro tipo\n",
    "Por enquanto, basta entender que\n",
    "    0:\tNão declarado,\n",
    "    1:\tBranca,\n",
    "    2:\tPreta,\n",
    "    3:\tParda,\n",
    "    4:\tAmarela,\n",
    "    5:\tIndígena, \n",
    "    6:\tNão dispõe da informação.\n"
   ]
  },
  {
   "cell_type": "markdown",
   "id": "59c6c189",
   "metadata": {},
   "source": [
    "## 4. Convertendo todo dataframe para os tipos apropriados."
   ]
  },
  {
   "cell_type": "code",
   "execution_count": null,
   "id": "2bd56967",
   "metadata": {},
   "outputs": [],
   "source": [
    "df = df.astype(\"category\")"
   ]
  },
  {
   "cell_type": "code",
   "execution_count": null,
   "id": "da238cb1",
   "metadata": {
    "scrolled": true
   },
   "outputs": [],
   "source": [
    "df.dtypes"
   ]
  },
  {
   "cell_type": "code",
   "execution_count": null,
   "id": "eaa515e3",
   "metadata": {},
   "outputs": [],
   "source": [
    "df[['NU_NOTA_CN', 'NU_NOTA_CH', 'NU_NOTA_LC', 'NU_NOTA_MT','NU_NOTA_COMP1','NU_NOTA_COMP2','NU_NOTA_COMP3', 'NU_NOTA_COMP4', 'NU_NOTA_COMP5','NU_NOTA_REDACAO']] = df[['NU_NOTA_CN', 'NU_NOTA_CH', 'NU_NOTA_LC', 'NU_NOTA_MT','NU_NOTA_COMP1','NU_NOTA_COMP2','NU_NOTA_COMP3', 'NU_NOTA_COMP4', 'NU_NOTA_COMP5','NU_NOTA_REDACAO']].astype('float')"
   ]
  },
  {
   "cell_type": "markdown",
   "id": "78efea0e",
   "metadata": {},
   "source": [
    "Como se pode ver eu optei por converter todo dataframe para object e depois converti apenas as colunas que possuem as notas para numerico"
   ]
  },
  {
   "cell_type": "code",
   "execution_count": null,
   "id": "9163caf5",
   "metadata": {},
   "outputs": [],
   "source": [
    "df.dtypes"
   ]
  },
  {
   "cell_type": "markdown",
   "id": "628eeae5",
   "metadata": {},
   "source": [
    "## Detectando valores ausentes"
   ]
  },
  {
   "cell_type": "code",
   "execution_count": null,
   "id": "51573940",
   "metadata": {
    "scrolled": true
   },
   "outputs": [],
   "source": [
    "df.isna().sum().sum()"
   ]
  },
  {
   "cell_type": "code",
   "execution_count": null,
   "id": "3afcf3ac",
   "metadata": {
    "scrolled": false
   },
   "outputs": [],
   "source": [
    "df.isnull().sum()"
   ]
  },
  {
   "cell_type": "code",
   "execution_count": null,
   "id": "d7be762e",
   "metadata": {},
   "outputs": [],
   "source": [
    "df.describe()"
   ]
  },
  {
   "cell_type": "code",
   "execution_count": null,
   "id": "a33dd83a",
   "metadata": {},
   "outputs": [],
   "source": [
    "for i in df:\n",
    "    x = ((df[i].isna().sum()/len(df[i]))*100).round(2)\n",
    "    print('coluna ',i,'possui ',x,'% de valores ausentes')"
   ]
  },
  {
   "cell_type": "code",
   "execution_count": null,
   "id": "094633c4",
   "metadata": {},
   "outputs": [],
   "source": []
  }
 ],
 "metadata": {
  "kernelspec": {
   "display_name": "Python 3 (ipykernel)",
   "language": "python",
   "name": "python3"
  },
  "language_info": {
   "codemirror_mode": {
    "name": "ipython",
    "version": 3
   },
   "file_extension": ".py",
   "mimetype": "text/x-python",
   "name": "python",
   "nbconvert_exporter": "python",
   "pygments_lexer": "ipython3",
   "version": "3.10.0"
  }
 },
 "nbformat": 4,
 "nbformat_minor": 5
}
